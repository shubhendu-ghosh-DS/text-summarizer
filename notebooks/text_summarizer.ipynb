{
  "nbformat": 4,
  "nbformat_minor": 0,
  "metadata": {
    "colab": {
      "name": "text summarizer",
      "provenance": [],
      "collapsed_sections": []
    },
    "kernelspec": {
      "name": "python3",
      "display_name": "Python 3"
    },
    "language_info": {
      "name": "python"
    }
  },
  "cells": [
    {
      "cell_type": "markdown",
      "source": [
        "# Summarize text using Graph"
      ],
      "metadata": {
        "id": "zvkc-B7Mtb5f"
      }
    },
    {
      "cell_type": "markdown",
      "source": [
        "in this project we will try to summarize a text using cosine distance and graph. \n",
        "we will be using word2vec to vectorize our words"
      ],
      "metadata": {
        "id": "82PKaR0xuoRf"
      }
    },
    {
      "cell_type": "markdown",
      "source": [
        "# Import the libraries"
      ],
      "metadata": {
        "id": "xwNBuZFFxAFf"
      }
    },
    {
      "cell_type": "code",
      "source": [
        "pip install nltk"
      ],
      "metadata": {
        "colab": {
          "base_uri": "https://localhost:8080/"
        },
        "id": "n0oqJvX4AdSI",
        "outputId": "a1dba96f-fcf1-4d24-b474-347bd1ca9c8e"
      },
      "execution_count": 1,
      "outputs": [
        {
          "output_type": "stream",
          "name": "stdout",
          "text": [
            "Looking in indexes: https://pypi.org/simple, https://us-python.pkg.dev/colab-wheels/public/simple/\n",
            "Requirement already satisfied: nltk in /usr/local/lib/python3.7/dist-packages (3.7)\n",
            "Requirement already satisfied: joblib in /usr/local/lib/python3.7/dist-packages (from nltk) (1.1.0)\n",
            "Requirement already satisfied: click in /usr/local/lib/python3.7/dist-packages (from nltk) (7.1.2)\n",
            "Requirement already satisfied: tqdm in /usr/local/lib/python3.7/dist-packages (from nltk) (4.64.0)\n",
            "Requirement already satisfied: regex>=2021.8.3 in /usr/local/lib/python3.7/dist-packages (from nltk) (2022.6.2)\n"
          ]
        }
      ]
    },
    {
      "cell_type": "code",
      "source": [
        "import numpy as np\n",
        "import pandas as pd\n",
        "import re\n",
        "from gensim.models import Word2Vec\n",
        "from scipy import spatial\n",
        "import networkx as nx\n",
        "import nltk\n",
        "nltk.download('punkt')\n",
        "nltk.download('stopwords')\n",
        "from nltk.corpus import stopwords\n",
        "from nltk.tokenize import sent_tokenize\n"
      ],
      "metadata": {
        "id": "6opVI6egAqnX",
        "colab": {
          "base_uri": "https://localhost:8080/"
        },
        "outputId": "3faa8e4a-68f0-4a3a-97f0-03bb4f31b5cd"
      },
      "execution_count": 2,
      "outputs": [
        {
          "output_type": "stream",
          "name": "stderr",
          "text": [
            "[nltk_data] Downloading package punkt to /root/nltk_data...\n",
            "[nltk_data]   Unzipping tokenizers/punkt.zip.\n",
            "[nltk_data] Downloading package stopwords to /root/nltk_data...\n",
            "[nltk_data]   Unzipping corpora/stopwords.zip.\n"
          ]
        }
      ]
    },
    {
      "cell_type": "markdown",
      "source": [
        "# summarize the text\n",
        "### we use OOPs to build this summarizer"
      ],
      "metadata": {
        "id": "zPtEvRFFxELW"
      }
    },
    {
      "cell_type": "code",
      "source": [
        "class summarize:\n",
        "  __slots__ = ['sentences', 'sentence_tokens', 'w2v', 'sentence_embeddings', 'similarity_matrix', 'nx_graph', 'top_sentence', 'scores']\n",
        "  def __init__(self):\n",
        "    pass\n",
        "  \n",
        "  \n",
        "  # function to get the input paragraph\n",
        "  def add_paragraph(self, Text):\n",
        "    self.text = Text\n",
        "  \n",
        "  \n",
        "  # function to process the summarizer\n",
        "  def preprocessing(self):\n",
        "    self.sentences = sent_tokenize(self.text)       # tokenizing the paragraph\n",
        "    self.sentences_clean=[re.sub(r'[^\\w\\s]','',sentence.lower()) for sentence in self.sentences]      # cleaning symbols and other unwanted characters\n",
        "    stop_words = stopwords.words('english')\n",
        "    self.sentence_tokens = [[words for words in sentence.split(' ') if words not in stop_words] for sentence in self.sentences_clean]         # removing stopwords\n",
        "    self.w2v=Word2Vec(self.sentence_tokens,size=1,min_count=1,iter=1000)\n",
        "    self.sentence_embeddings = [[self.w2v[word][0] for word in words] for words in self.sentence_tokens]\n",
        "    self.max_len=max([len(tokens) for tokens in self.sentence_tokens])\n",
        "    self.sentence_embeddings=[np.pad(embedding,(0,self.max_len-len(embedding)),'constant') for embedding in self.sentence_embeddings]\n",
        "    self.similarity_matrix = np.zeros([len(self.sentence_tokens), len(self.sentence_tokens)])\n",
        "    for i,row_embedding in enumerate(self.sentence_embeddings):\n",
        "      for j,column_embedding in enumerate(self.sentence_embeddings):\n",
        "        self.similarity_matrix[i][j]=1-spatial.distance.cosine(row_embedding,column_embedding)\n",
        "    self.nx_graph = nx.from_numpy_array(self.similarity_matrix)\n",
        "    self.scores = nx.pagerank(self.nx_graph)\n",
        "    self.top_sentence = {sentence:self.scores[index] for index,sentence in enumerate(self.sentences)}\n",
        "  \n",
        "  \n",
        "  \n",
        "  # ask user about summary size\n",
        "  def summary_size(self,size):\n",
        "    self.top=dict(sorted(self.top_sentence.items(), key=lambda x: x[1], reverse=True)[:size])\n",
        "  \n",
        "  \n",
        "  \n",
        "  # return the summary of the given text\n",
        "  def get_summary(self):\n",
        "    for sent in self.sentences:\n",
        "      if sent in self.top.keys():\n",
        "        print(sent)\n",
        "    \n"
      ],
      "metadata": {
        "id": "EsSwhECgxZS-"
      },
      "execution_count": 14,
      "outputs": []
    },
    {
      "cell_type": "markdown",
      "source": [
        "# Now let's test our model"
      ],
      "metadata": {
        "id": "r9Jf_cIR0lWQ"
      }
    },
    {
      "cell_type": "code",
      "source": [
        "text1 = '''Bitcoin is a cryptocurrency, a virtual currency designed to act as money and a form of payment outside the control of any one person, group, or entity, and thus removing the need for third-party involvement in financial transactions. It is rewarded to blockchain miners for the work done to verify transactions and can be purchased on several exchanges.\n",
        "\n",
        "Bitcoin was introduced to the public in 2009 by an anonymous developer or group of developers using the name Satoshi Nakamoto.\n",
        "\n",
        "It has since become the most well-known cryptocurrency in the world. Its popularity has inspired the development of many other cryptocurrencies. These competitors either attempt to replace it as a payment system or are used as utility or security tokens in other blockchains and emerging financial technologies.'''"
      ],
      "metadata": {
        "id": "o5HOzcSYvhWn"
      },
      "execution_count": 7,
      "outputs": []
    },
    {
      "cell_type": "code",
      "source": [
        "summ = summarize()\n",
        "summ.add_paragraph(\"Quantum computing is a rapidly-emerging technology that harnesses the laws of quantum mechanics to solve problems too complex for classical computers. Today, IBM Quantum makes real quantum hardware -- a tool scientists only began to imagine three decades ago -- available to thousands of developers. Our engineers deliver ever-more-powerful superconducting quantum processors at regular intervals, building toward the quantum computing speed and capacity necessary to change the world. These machines are very different from the classical computers that have been around for more than half a century. Here's a primer on this transformative technology.\")\n",
        "summ.preprocessing()\n",
        "summ.summary_size(4)\n",
        "summ.get_summary()"
      ],
      "metadata": {
        "colab": {
          "base_uri": "https://localhost:8080/"
        },
        "id": "hWne3Sma6cLG",
        "outputId": "eac0b825-ce36-402b-9aed-83c39cc751c7"
      },
      "execution_count": 5,
      "outputs": [
        {
          "output_type": "stream",
          "name": "stdout",
          "text": [
            "Quantum computing is a rapidly-emerging technology that harnesses the laws of quantum mechanics to solve problems too complex for classical computers.\n",
            "Today, IBM Quantum makes real quantum hardware -- a tool scientists only began to imagine three decades ago -- available to thousands of developers.\n",
            "Our engineers deliver ever-more-powerful superconducting quantum processors at regular intervals, building toward the quantum computing speed and capacity necessary to change the world.\n",
            "These machines are very different from the classical computers that have been around for more than half a century.\n"
          ]
        },
        {
          "output_type": "stream",
          "name": "stderr",
          "text": [
            "/usr/local/lib/python3.7/dist-packages/ipykernel_launcher.py:14: DeprecationWarning: Call to deprecated `__getitem__` (Method will be removed in 4.0.0, use self.wv.__getitem__() instead).\n",
            "  \n"
          ]
        }
      ]
    },
    {
      "cell_type": "code",
      "source": [
        "\n",
        "summary = summarize()\n",
        "summary.add_paragraph(text1)\n",
        "summary.preprocessing()\n",
        "summary.summary_size(4)\n",
        "summary.get_summary()"
      ],
      "metadata": {
        "colab": {
          "base_uri": "https://localhost:8080/"
        },
        "id": "hY0tcLCe8aLI",
        "outputId": "28f3c617-7c66-44ac-bb63-88de8280cedc"
      },
      "execution_count": 9,
      "outputs": [
        {
          "output_type": "stream",
          "name": "stdout",
          "text": [
            "It is rewarded to blockchain miners for the work done to verify transactions and can be purchased on several exchanges.\n",
            "Bitcoin was introduced to the public in 2009 by an anonymous developer or group of developers using the name Satoshi Nakamoto.\n",
            "Its popularity has inspired the development of many other cryptocurrencies.\n",
            "These competitors either attempt to replace it as a payment system or are used as utility or security tokens in other blockchains and emerging financial technologies.\n"
          ]
        },
        {
          "output_type": "stream",
          "name": "stderr",
          "text": [
            "/usr/local/lib/python3.7/dist-packages/ipykernel_launcher.py:14: DeprecationWarning: Call to deprecated `__getitem__` (Method will be removed in 4.0.0, use self.wv.__getitem__() instead).\n",
            "  \n"
          ]
        }
      ]
    },
    {
      "cell_type": "code",
      "source": [
        "text2 = '''Banks are a very important part of the economy because they provide vital services for both consumers and businesses. As financial services providers, they give you a safe place to store your cash. Through a variety of account types such as checking and savings accounts and certificates of deposit (CDs), you can conduct routine banking transactions like deposits, withdrawals, check writing, and bill payments. You can also save your money and earn interest on your investment. The money stored in most bank accounts is federally insured by the Federal Deposit Insurance Corporation (FDIC), up to a limit of $250,000 for individual depositors and $500,000 for jointly held deposits.\n",
        "1\n",
        "\n",
        "Banks also provide credit opportunities for people and corporations. The bank lends the money you deposit at the bank—short-term cash—to others for long-term debt such as car loans, credit cards, mortgages, and other debt vehicles. This process helps create liquidity in the market—which creates money and keeps the supply going.\n",
        "\n",
        "Just like any other business, the goal of a bank is to earn a profit for its owners. For most banks, the owners are their shareholders. Banks do this by charging more interest on the loans and other debt they issue to borrowers than what they pay to people who use their savings vehicles. For a simple example, a bank that pays 1% interest on savings accounts and charges 6% interest for loans earns a gross profit of 5% for its owners.'''"
      ],
      "metadata": {
        "id": "Zbn12u9lwyEn"
      },
      "execution_count": 10,
      "outputs": []
    },
    {
      "cell_type": "code",
      "source": [
        "summary = summarize()\n",
        "summary.add_paragraph(text2)\n",
        "summary.preprocessing()\n",
        "summary.summary_size(4)\n",
        "summary.get_summary()"
      ],
      "metadata": {
        "colab": {
          "base_uri": "https://localhost:8080/"
        },
        "id": "HOAEvyMRw1mG",
        "outputId": "1f0f8e2e-7ef2-41de-8549-77abe711069b"
      },
      "execution_count": 11,
      "outputs": [
        {
          "output_type": "stream",
          "name": "stdout",
          "text": [
            "Banks are a very important part of the economy because they provide vital services for both consumers and businesses.\n",
            "As financial services providers, they give you a safe place to store your cash.\n",
            "This process helps create liquidity in the market—which creates money and keeps the supply going.\n",
            "Banks do this by charging more interest on the loans and other debt they issue to borrowers than what they pay to people who use their savings vehicles.\n"
          ]
        },
        {
          "output_type": "stream",
          "name": "stderr",
          "text": [
            "/usr/local/lib/python3.7/dist-packages/ipykernel_launcher.py:14: DeprecationWarning: Call to deprecated `__getitem__` (Method will be removed in 4.0.0, use self.wv.__getitem__() instead).\n",
            "  \n"
          ]
        }
      ]
    }
  ]
}